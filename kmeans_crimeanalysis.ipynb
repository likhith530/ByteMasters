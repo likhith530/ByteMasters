{
  "nbformat": 4,
  "nbformat_minor": 0,
  "metadata": {
    "colab": {
      "provenance": []
    },
    "kernelspec": {
      "name": "python3",
      "display_name": "Python 3"
    },
    "language_info": {
      "name": "python"
    }
  },
  "cells": [
    {
      "cell_type": "markdown",
      "source": [
        "\n",
        "**Crime Analysis using K-Means**"
      ],
      "metadata": {
        "id": "vCWUa5J041G3"
      }
    },
    {
      "cell_type": "code",
      "execution_count": 42,
      "metadata": {
        "id": "BUmCNkjm3eo_"
      },
      "outputs": [],
      "source": [
        "import numpy as np # linear algebra\n",
        "import pandas as pd # data processing, CSV file I/O (e.g. pd.read_csv)\n",
        "import matplotlib.pyplot as plt # for data visualization\n",
        "import seaborn as sns # for statistical data visualization\n",
        "%matplotlib inline\n",
        "import warnings\n",
        "\n",
        "warnings.filterwarnings('ignore')\n"
      ]
    },
    {
      "cell_type": "code",
      "source": [
        "data1 = pd.read_csv('/content/01_District_wise_crimes_committed_IPC_2001_2012.csv')\n",
        "data2 = pd.read_csv('/content/01_District_wise_crimes_committed_IPC_2013.csv')\n",
        "data = pd.concat([data1,data2])"
      ],
      "metadata": {
        "id": "bPp6LpFr9tQg"
      },
      "execution_count": 43,
      "outputs": []
    },
    {
      "cell_type": "code",
      "source": [
        "data.head()"
      ],
      "metadata": {
        "colab": {
          "base_uri": "https://localhost:8080/",
          "height": 481
        },
        "id": "c9RQ8eNdqQi3",
        "outputId": "55b9a658-66fa-4a91-a014-5185203235ab"
      },
      "execution_count": 44,
      "outputs": [
        {
          "output_type": "execute_result",
          "data": {
            "text/plain": [
              "         STATE/UT       DISTRICT  YEAR  MURDER  ATTEMPT TO MURDER  \\\n",
              "0  ANDHRA PRADESH       ADILABAD  2001     101                 60   \n",
              "1  ANDHRA PRADESH      ANANTAPUR  2001     151                125   \n",
              "2  ANDHRA PRADESH       CHITTOOR  2001     101                 57   \n",
              "3  ANDHRA PRADESH       CUDDAPAH  2001      80                 53   \n",
              "4  ANDHRA PRADESH  EAST GODAVARI  2001      82                 67   \n",
              "\n",
              "   CULPABLE HOMICIDE NOT AMOUNTING TO MURDER  RAPE  CUSTODIAL RAPE  \\\n",
              "0                                         17    50               0   \n",
              "1                                          1    23               0   \n",
              "2                                          2    27               0   \n",
              "3                                          1    20               0   \n",
              "4                                          1    23               0   \n",
              "\n",
              "   OTHER RAPE  KIDNAPPING & ABDUCTION  ...  ARSON  HURT/GREVIOUS HURT  \\\n",
              "0          50                      46  ...     30                1131   \n",
              "1          23                      53  ...     69                1543   \n",
              "2          27                      59  ...     38                2088   \n",
              "3          20                      25  ...     23                 795   \n",
              "4          23                      49  ...     41                1244   \n",
              "\n",
              "   DOWRY DEATHS  ASSAULT ON WOMEN WITH INTENT TO OUTRAGE HER MODESTY  \\\n",
              "0            16                                                149     \n",
              "1             7                                                118     \n",
              "2            14                                                112     \n",
              "3            17                                                126     \n",
              "4            12                                                109     \n",
              "\n",
              "   INSULT TO MODESTY OF WOMEN  CRUELTY BY HUSBAND OR HIS RELATIVES  \\\n",
              "0                          34                                  175   \n",
              "1                          24                                  154   \n",
              "2                          83                                  186   \n",
              "3                          38                                   57   \n",
              "4                          58                                  247   \n",
              "\n",
              "   IMPORTATION OF GIRLS FROM FOREIGN COUNTRIES  CAUSING DEATH BY NEGLIGENCE  \\\n",
              "0                                            0                          181   \n",
              "1                                            0                          270   \n",
              "2                                            0                          404   \n",
              "3                                            0                          233   \n",
              "4                                            0                          431   \n",
              "\n",
              "   OTHER IPC CRIMES  TOTAL IPC CRIMES  \n",
              "0              1518              4154  \n",
              "1               754              4125  \n",
              "2              1262              5818  \n",
              "3              1181              3140  \n",
              "4              2313              6507  \n",
              "\n",
              "[5 rows x 33 columns]"
            ],
            "text/html": [
              "\n",
              "  <div id=\"df-321d78fc-9a34-462e-bcc8-bf0644d9fac4\" class=\"colab-df-container\">\n",
              "    <div>\n",
              "<style scoped>\n",
              "    .dataframe tbody tr th:only-of-type {\n",
              "        vertical-align: middle;\n",
              "    }\n",
              "\n",
              "    .dataframe tbody tr th {\n",
              "        vertical-align: top;\n",
              "    }\n",
              "\n",
              "    .dataframe thead th {\n",
              "        text-align: right;\n",
              "    }\n",
              "</style>\n",
              "<table border=\"1\" class=\"dataframe\">\n",
              "  <thead>\n",
              "    <tr style=\"text-align: right;\">\n",
              "      <th></th>\n",
              "      <th>STATE/UT</th>\n",
              "      <th>DISTRICT</th>\n",
              "      <th>YEAR</th>\n",
              "      <th>MURDER</th>\n",
              "      <th>ATTEMPT TO MURDER</th>\n",
              "      <th>CULPABLE HOMICIDE NOT AMOUNTING TO MURDER</th>\n",
              "      <th>RAPE</th>\n",
              "      <th>CUSTODIAL RAPE</th>\n",
              "      <th>OTHER RAPE</th>\n",
              "      <th>KIDNAPPING &amp; ABDUCTION</th>\n",
              "      <th>...</th>\n",
              "      <th>ARSON</th>\n",
              "      <th>HURT/GREVIOUS HURT</th>\n",
              "      <th>DOWRY DEATHS</th>\n",
              "      <th>ASSAULT ON WOMEN WITH INTENT TO OUTRAGE HER MODESTY</th>\n",
              "      <th>INSULT TO MODESTY OF WOMEN</th>\n",
              "      <th>CRUELTY BY HUSBAND OR HIS RELATIVES</th>\n",
              "      <th>IMPORTATION OF GIRLS FROM FOREIGN COUNTRIES</th>\n",
              "      <th>CAUSING DEATH BY NEGLIGENCE</th>\n",
              "      <th>OTHER IPC CRIMES</th>\n",
              "      <th>TOTAL IPC CRIMES</th>\n",
              "    </tr>\n",
              "  </thead>\n",
              "  <tbody>\n",
              "    <tr>\n",
              "      <th>0</th>\n",
              "      <td>ANDHRA PRADESH</td>\n",
              "      <td>ADILABAD</td>\n",
              "      <td>2001</td>\n",
              "      <td>101</td>\n",
              "      <td>60</td>\n",
              "      <td>17</td>\n",
              "      <td>50</td>\n",
              "      <td>0</td>\n",
              "      <td>50</td>\n",
              "      <td>46</td>\n",
              "      <td>...</td>\n",
              "      <td>30</td>\n",
              "      <td>1131</td>\n",
              "      <td>16</td>\n",
              "      <td>149</td>\n",
              "      <td>34</td>\n",
              "      <td>175</td>\n",
              "      <td>0</td>\n",
              "      <td>181</td>\n",
              "      <td>1518</td>\n",
              "      <td>4154</td>\n",
              "    </tr>\n",
              "    <tr>\n",
              "      <th>1</th>\n",
              "      <td>ANDHRA PRADESH</td>\n",
              "      <td>ANANTAPUR</td>\n",
              "      <td>2001</td>\n",
              "      <td>151</td>\n",
              "      <td>125</td>\n",
              "      <td>1</td>\n",
              "      <td>23</td>\n",
              "      <td>0</td>\n",
              "      <td>23</td>\n",
              "      <td>53</td>\n",
              "      <td>...</td>\n",
              "      <td>69</td>\n",
              "      <td>1543</td>\n",
              "      <td>7</td>\n",
              "      <td>118</td>\n",
              "      <td>24</td>\n",
              "      <td>154</td>\n",
              "      <td>0</td>\n",
              "      <td>270</td>\n",
              "      <td>754</td>\n",
              "      <td>4125</td>\n",
              "    </tr>\n",
              "    <tr>\n",
              "      <th>2</th>\n",
              "      <td>ANDHRA PRADESH</td>\n",
              "      <td>CHITTOOR</td>\n",
              "      <td>2001</td>\n",
              "      <td>101</td>\n",
              "      <td>57</td>\n",
              "      <td>2</td>\n",
              "      <td>27</td>\n",
              "      <td>0</td>\n",
              "      <td>27</td>\n",
              "      <td>59</td>\n",
              "      <td>...</td>\n",
              "      <td>38</td>\n",
              "      <td>2088</td>\n",
              "      <td>14</td>\n",
              "      <td>112</td>\n",
              "      <td>83</td>\n",
              "      <td>186</td>\n",
              "      <td>0</td>\n",
              "      <td>404</td>\n",
              "      <td>1262</td>\n",
              "      <td>5818</td>\n",
              "    </tr>\n",
              "    <tr>\n",
              "      <th>3</th>\n",
              "      <td>ANDHRA PRADESH</td>\n",
              "      <td>CUDDAPAH</td>\n",
              "      <td>2001</td>\n",
              "      <td>80</td>\n",
              "      <td>53</td>\n",
              "      <td>1</td>\n",
              "      <td>20</td>\n",
              "      <td>0</td>\n",
              "      <td>20</td>\n",
              "      <td>25</td>\n",
              "      <td>...</td>\n",
              "      <td>23</td>\n",
              "      <td>795</td>\n",
              "      <td>17</td>\n",
              "      <td>126</td>\n",
              "      <td>38</td>\n",
              "      <td>57</td>\n",
              "      <td>0</td>\n",
              "      <td>233</td>\n",
              "      <td>1181</td>\n",
              "      <td>3140</td>\n",
              "    </tr>\n",
              "    <tr>\n",
              "      <th>4</th>\n",
              "      <td>ANDHRA PRADESH</td>\n",
              "      <td>EAST GODAVARI</td>\n",
              "      <td>2001</td>\n",
              "      <td>82</td>\n",
              "      <td>67</td>\n",
              "      <td>1</td>\n",
              "      <td>23</td>\n",
              "      <td>0</td>\n",
              "      <td>23</td>\n",
              "      <td>49</td>\n",
              "      <td>...</td>\n",
              "      <td>41</td>\n",
              "      <td>1244</td>\n",
              "      <td>12</td>\n",
              "      <td>109</td>\n",
              "      <td>58</td>\n",
              "      <td>247</td>\n",
              "      <td>0</td>\n",
              "      <td>431</td>\n",
              "      <td>2313</td>\n",
              "      <td>6507</td>\n",
              "    </tr>\n",
              "  </tbody>\n",
              "</table>\n",
              "<p>5 rows × 33 columns</p>\n",
              "</div>\n",
              "    <div class=\"colab-df-buttons\">\n",
              "\n",
              "  <div class=\"colab-df-container\">\n",
              "    <button class=\"colab-df-convert\" onclick=\"convertToInteractive('df-321d78fc-9a34-462e-bcc8-bf0644d9fac4')\"\n",
              "            title=\"Convert this dataframe to an interactive table.\"\n",
              "            style=\"display:none;\">\n",
              "\n",
              "  <svg xmlns=\"http://www.w3.org/2000/svg\" height=\"24px\" viewBox=\"0 -960 960 960\">\n",
              "    <path d=\"M120-120v-720h720v720H120Zm60-500h600v-160H180v160Zm220 220h160v-160H400v160Zm0 220h160v-160H400v160ZM180-400h160v-160H180v160Zm440 0h160v-160H620v160ZM180-180h160v-160H180v160Zm440 0h160v-160H620v160Z\"/>\n",
              "  </svg>\n",
              "    </button>\n",
              "\n",
              "  <style>\n",
              "    .colab-df-container {\n",
              "      display:flex;\n",
              "      gap: 12px;\n",
              "    }\n",
              "\n",
              "    .colab-df-convert {\n",
              "      background-color: #E8F0FE;\n",
              "      border: none;\n",
              "      border-radius: 50%;\n",
              "      cursor: pointer;\n",
              "      display: none;\n",
              "      fill: #1967D2;\n",
              "      height: 32px;\n",
              "      padding: 0 0 0 0;\n",
              "      width: 32px;\n",
              "    }\n",
              "\n",
              "    .colab-df-convert:hover {\n",
              "      background-color: #E2EBFA;\n",
              "      box-shadow: 0px 1px 2px rgba(60, 64, 67, 0.3), 0px 1px 3px 1px rgba(60, 64, 67, 0.15);\n",
              "      fill: #174EA6;\n",
              "    }\n",
              "\n",
              "    .colab-df-buttons div {\n",
              "      margin-bottom: 4px;\n",
              "    }\n",
              "\n",
              "    [theme=dark] .colab-df-convert {\n",
              "      background-color: #3B4455;\n",
              "      fill: #D2E3FC;\n",
              "    }\n",
              "\n",
              "    [theme=dark] .colab-df-convert:hover {\n",
              "      background-color: #434B5C;\n",
              "      box-shadow: 0px 1px 3px 1px rgba(0, 0, 0, 0.15);\n",
              "      filter: drop-shadow(0px 1px 2px rgba(0, 0, 0, 0.3));\n",
              "      fill: #FFFFFF;\n",
              "    }\n",
              "  </style>\n",
              "\n",
              "    <script>\n",
              "      const buttonEl =\n",
              "        document.querySelector('#df-321d78fc-9a34-462e-bcc8-bf0644d9fac4 button.colab-df-convert');\n",
              "      buttonEl.style.display =\n",
              "        google.colab.kernel.accessAllowed ? 'block' : 'none';\n",
              "\n",
              "      async function convertToInteractive(key) {\n",
              "        const element = document.querySelector('#df-321d78fc-9a34-462e-bcc8-bf0644d9fac4');\n",
              "        const dataTable =\n",
              "          await google.colab.kernel.invokeFunction('convertToInteractive',\n",
              "                                                    [key], {});\n",
              "        if (!dataTable) return;\n",
              "\n",
              "        const docLinkHtml = 'Like what you see? Visit the ' +\n",
              "          '<a target=\"_blank\" href=https://colab.research.google.com/notebooks/data_table.ipynb>data table notebook</a>'\n",
              "          + ' to learn more about interactive tables.';\n",
              "        element.innerHTML = '';\n",
              "        dataTable['output_type'] = 'display_data';\n",
              "        await google.colab.output.renderOutput(dataTable, element);\n",
              "        const docLink = document.createElement('div');\n",
              "        docLink.innerHTML = docLinkHtml;\n",
              "        element.appendChild(docLink);\n",
              "      }\n",
              "    </script>\n",
              "  </div>\n",
              "\n",
              "\n",
              "<div id=\"df-d38b4ed1-3f10-4699-95ad-d52ba620288b\">\n",
              "  <button class=\"colab-df-quickchart\" onclick=\"quickchart('df-d38b4ed1-3f10-4699-95ad-d52ba620288b')\"\n",
              "            title=\"Suggest charts.\"\n",
              "            style=\"display:none;\">\n",
              "\n",
              "<svg xmlns=\"http://www.w3.org/2000/svg\" height=\"24px\"viewBox=\"0 0 24 24\"\n",
              "     width=\"24px\">\n",
              "    <g>\n",
              "        <path d=\"M19 3H5c-1.1 0-2 .9-2 2v14c0 1.1.9 2 2 2h14c1.1 0 2-.9 2-2V5c0-1.1-.9-2-2-2zM9 17H7v-7h2v7zm4 0h-2V7h2v10zm4 0h-2v-4h2v4z\"/>\n",
              "    </g>\n",
              "</svg>\n",
              "  </button>\n",
              "\n",
              "<style>\n",
              "  .colab-df-quickchart {\n",
              "    background-color: #E8F0FE;\n",
              "    border: none;\n",
              "    border-radius: 50%;\n",
              "    cursor: pointer;\n",
              "    display: none;\n",
              "    fill: #1967D2;\n",
              "    height: 32px;\n",
              "    padding: 0 0 0 0;\n",
              "    width: 32px;\n",
              "  }\n",
              "\n",
              "  .colab-df-quickchart:hover {\n",
              "    background-color: #E2EBFA;\n",
              "    box-shadow: 0px 1px 2px rgba(60, 64, 67, 0.3), 0px 1px 3px 1px rgba(60, 64, 67, 0.15);\n",
              "    fill: #174EA6;\n",
              "  }\n",
              "\n",
              "  [theme=dark] .colab-df-quickchart {\n",
              "    background-color: #3B4455;\n",
              "    fill: #D2E3FC;\n",
              "  }\n",
              "\n",
              "  [theme=dark] .colab-df-quickchart:hover {\n",
              "    background-color: #434B5C;\n",
              "    box-shadow: 0px 1px 3px 1px rgba(0, 0, 0, 0.15);\n",
              "    filter: drop-shadow(0px 1px 2px rgba(0, 0, 0, 0.3));\n",
              "    fill: #FFFFFF;\n",
              "  }\n",
              "</style>\n",
              "\n",
              "  <script>\n",
              "    async function quickchart(key) {\n",
              "      const charts = await google.colab.kernel.invokeFunction(\n",
              "          'suggestCharts', [key], {});\n",
              "    }\n",
              "    (() => {\n",
              "      let quickchartButtonEl =\n",
              "        document.querySelector('#df-d38b4ed1-3f10-4699-95ad-d52ba620288b button');\n",
              "      quickchartButtonEl.style.display =\n",
              "        google.colab.kernel.accessAllowed ? 'block' : 'none';\n",
              "    })();\n",
              "  </script>\n",
              "</div>\n",
              "    </div>\n",
              "  </div>\n"
            ]
          },
          "metadata": {},
          "execution_count": 44
        }
      ]
    },
    {
      "cell_type": "code",
      "source": [
        "data.dropna(subset=['STATE/UT'], inplace=True)"
      ],
      "metadata": {
        "id": "oQTSQ4tLCFok"
      },
      "execution_count": 3,
      "outputs": []
    },
    {
      "cell_type": "code",
      "source": [
        "data=data.dropna(axis = 1)"
      ],
      "metadata": {
        "id": "vtcglicCDCh_"
      },
      "execution_count": 46,
      "outputs": []
    },
    {
      "cell_type": "code",
      "source": [
        "data.info()"
      ],
      "metadata": {
        "colab": {
          "base_uri": "https://localhost:8080/"
        },
        "id": "9v1SWdTVEJdk",
        "outputId": "43a14a39-77a4-494d-8922-49bb9a8a0fa3"
      },
      "execution_count": 47,
      "outputs": [
        {
          "output_type": "stream",
          "name": "stdout",
          "text": [
            "<class 'pandas.core.frame.DataFrame'>\n",
            "Int64Index: 9840 entries, 0 to 822\n",
            "Data columns (total 33 columns):\n",
            " #   Column                                               Non-Null Count  Dtype \n",
            "---  ------                                               --------------  ----- \n",
            " 0   STATE/UT                                             9840 non-null   object\n",
            " 1   DISTRICT                                             9840 non-null   object\n",
            " 2   YEAR                                                 9840 non-null   int64 \n",
            " 3   MURDER                                               9840 non-null   int64 \n",
            " 4   ATTEMPT TO MURDER                                    9840 non-null   int64 \n",
            " 5   CULPABLE HOMICIDE NOT AMOUNTING TO MURDER            9840 non-null   int64 \n",
            " 6   RAPE                                                 9840 non-null   int64 \n",
            " 7   CUSTODIAL RAPE                                       9840 non-null   int64 \n",
            " 8   OTHER RAPE                                           9840 non-null   int64 \n",
            " 9   KIDNAPPING & ABDUCTION                               9840 non-null   int64 \n",
            " 10  KIDNAPPING AND ABDUCTION OF WOMEN AND GIRLS          9840 non-null   int64 \n",
            " 11  KIDNAPPING AND ABDUCTION OF OTHERS                   9840 non-null   int64 \n",
            " 12  DACOITY                                              9840 non-null   int64 \n",
            " 13  PREPARATION AND ASSEMBLY FOR DACOITY                 9840 non-null   int64 \n",
            " 14  ROBBERY                                              9840 non-null   int64 \n",
            " 15  BURGLARY                                             9840 non-null   int64 \n",
            " 16  THEFT                                                9840 non-null   int64 \n",
            " 17  AUTO THEFT                                           9840 non-null   int64 \n",
            " 18  OTHER THEFT                                          9840 non-null   int64 \n",
            " 19  RIOTS                                                9840 non-null   int64 \n",
            " 20  CRIMINAL BREACH OF TRUST                             9840 non-null   int64 \n",
            " 21  CHEATING                                             9840 non-null   int64 \n",
            " 22  COUNTERFIETING                                       9840 non-null   int64 \n",
            " 23  ARSON                                                9840 non-null   int64 \n",
            " 24  HURT/GREVIOUS HURT                                   9840 non-null   int64 \n",
            " 25  DOWRY DEATHS                                         9840 non-null   int64 \n",
            " 26  ASSAULT ON WOMEN WITH INTENT TO OUTRAGE HER MODESTY  9840 non-null   int64 \n",
            " 27  INSULT TO MODESTY OF WOMEN                           9840 non-null   int64 \n",
            " 28  CRUELTY BY HUSBAND OR HIS RELATIVES                  9840 non-null   int64 \n",
            " 29  IMPORTATION OF GIRLS FROM FOREIGN COUNTRIES          9840 non-null   int64 \n",
            " 30  CAUSING DEATH BY NEGLIGENCE                          9840 non-null   int64 \n",
            " 31  OTHER IPC CRIMES                                     9840 non-null   int64 \n",
            " 32  TOTAL IPC CRIMES                                     9840 non-null   int64 \n",
            "dtypes: int64(31), object(2)\n",
            "memory usage: 2.6+ MB\n"
          ]
        }
      ]
    },
    {
      "cell_type": "code",
      "source": [
        "data['STATE/UT'] = data['STATE/UT'].astype('|S80')\n",
        "data['DISTRICT']=data['DISTRICT'].astype('|S80')"
      ],
      "metadata": {
        "id": "3U-KBmixINFg"
      },
      "execution_count": 48,
      "outputs": []
    },
    {
      "cell_type": "markdown",
      "source": [
        "Assigning labels to all the states and union territories\n"
      ],
      "metadata": {
        "id": "rc0zjv79urmE"
      }
    },
    {
      "cell_type": "code",
      "source": [
        "from sklearn.preprocessing import LabelEncoder\n",
        "\n",
        "le = LabelEncoder()\n",
        "\n",
        "data['STATE/UT'] = le.fit_transform(data['STATE/UT'])\n",
        "data['DISTRICT'] = le.fit_transform(data['DISTRICT'])"
      ],
      "metadata": {
        "id": "neKvbyTLInwc"
      },
      "execution_count": 49,
      "outputs": []
    },
    {
      "cell_type": "markdown",
      "source": [
        "Dividing data into different datasets with required fields"
      ],
      "metadata": {
        "id": "fu7o-XTXu2qh"
      }
    },
    {
      "cell_type": "code",
      "source": [
        "df1 = data[['STATE/UT', 'MURDER']]"
      ],
      "metadata": {
        "id": "1367bKah3ACS"
      },
      "execution_count": 50,
      "outputs": []
    },
    {
      "cell_type": "code",
      "source": [
        "df2 = data[['STATE/UT', 'RAPE']]"
      ],
      "metadata": {
        "id": "5rJluWitCNwm"
      },
      "execution_count": 51,
      "outputs": []
    },
    {
      "cell_type": "code",
      "source": [
        "df3 = data[['STATE/UT', 'KIDNAPPING & ABDUCTION']]"
      ],
      "metadata": {
        "id": "hmuOfOHMCdc0"
      },
      "execution_count": 52,
      "outputs": []
    },
    {
      "cell_type": "code",
      "source": [
        "df4 = data[['STATE/UT', 'DACOITY']]"
      ],
      "metadata": {
        "id": "sqfJ9V5yCjGQ"
      },
      "execution_count": 53,
      "outputs": []
    },
    {
      "cell_type": "code",
      "source": [
        "df5 = data[['STATE/UT', 'ROBBERY']]"
      ],
      "metadata": {
        "id": "qWFz6ln1CrQf"
      },
      "execution_count": 54,
      "outputs": []
    },
    {
      "cell_type": "code",
      "source": [
        "df6 = data[['STATE/UT', 'RIOTS']]"
      ],
      "metadata": {
        "id": "GPv0qr6cCz7_"
      },
      "execution_count": 55,
      "outputs": []
    },
    {
      "cell_type": "code",
      "source": [
        "df7 = data[['STATE/UT', 'DOWRY DEATHS']]"
      ],
      "metadata": {
        "id": "4CsF-JOzC3W2"
      },
      "execution_count": 56,
      "outputs": []
    },
    {
      "cell_type": "code",
      "source": [
        "df1['MURDER'] = df1.groupby('STATE/UT')['MURDER'].transform('sum')"
      ],
      "metadata": {
        "id": "UgGnkhoz5bC_"
      },
      "execution_count": 57,
      "outputs": []
    },
    {
      "cell_type": "code",
      "source": [
        "df2['RAPE'] = df2.groupby('STATE/UT')['RAPE'].transform('sum')"
      ],
      "metadata": {
        "id": "sw0_qNSODWkQ"
      },
      "execution_count": 58,
      "outputs": []
    },
    {
      "cell_type": "code",
      "source": [
        "df3['KDINAPPING & ABDUCTION'] = df3.groupby('STATE/UT')['KIDNAPPING & ABDUCTION'].transform('sum')"
      ],
      "metadata": {
        "id": "VJJJ3kBTDeBD"
      },
      "execution_count": 59,
      "outputs": []
    },
    {
      "cell_type": "code",
      "source": [
        "df4['DACOITY'] = df4.groupby('STATE/UT')['DACOITY'].transform('sum')"
      ],
      "metadata": {
        "id": "MCY5E_DVDpjS"
      },
      "execution_count": 60,
      "outputs": []
    },
    {
      "cell_type": "code",
      "source": [
        "df5['ROBBERY'] = df5.groupby('STATE/UT')['ROBBERY'].transform('sum')"
      ],
      "metadata": {
        "id": "Kymky3m8Dw8v"
      },
      "execution_count": 61,
      "outputs": []
    },
    {
      "cell_type": "code",
      "source": [
        "df6['RIOTS'] = df6.groupby('STATE/UT')['RIOTS'].transform('sum')"
      ],
      "metadata": {
        "id": "8x-nmIntD2Yq"
      },
      "execution_count": 62,
      "outputs": []
    },
    {
      "cell_type": "code",
      "source": [
        "df7['DOWRY DEATHS'] = df7.groupby('STATE/UT')['DOWRY DEATHS'].transform('sum')"
      ],
      "metadata": {
        "id": "wn-WQhX2D7P7"
      },
      "execution_count": 63,
      "outputs": []
    },
    {
      "cell_type": "code",
      "source": [
        "df1 = df1.drop_duplicates(subset=['STATE/UT'])"
      ],
      "metadata": {
        "id": "-oSXFIg46UMc"
      },
      "execution_count": 64,
      "outputs": []
    },
    {
      "cell_type": "code",
      "source": [
        "df2 = df2.drop_duplicates(subset=['STATE/UT'])"
      ],
      "metadata": {
        "id": "f6hfYvWiEKau"
      },
      "execution_count": 65,
      "outputs": []
    },
    {
      "cell_type": "code",
      "source": [
        "df3 = df3.drop_duplicates(subset=['STATE/UT'])"
      ],
      "metadata": {
        "id": "ch2YPkRPERqh"
      },
      "execution_count": 66,
      "outputs": []
    },
    {
      "cell_type": "code",
      "source": [
        "df4 = df4.drop_duplicates(subset=['STATE/UT'])"
      ],
      "metadata": {
        "id": "-0Jv9xhyEQ3a"
      },
      "execution_count": 67,
      "outputs": []
    },
    {
      "cell_type": "code",
      "source": [
        "df5 = df5.drop_duplicates(subset=['STATE/UT'])"
      ],
      "metadata": {
        "id": "DC-XK-z_EQm-"
      },
      "execution_count": 68,
      "outputs": []
    },
    {
      "cell_type": "code",
      "source": [
        "df6 = df6.drop_duplicates(subset=['STATE/UT'])"
      ],
      "metadata": {
        "id": "71ezCC_cEQNC"
      },
      "execution_count": 69,
      "outputs": []
    },
    {
      "cell_type": "code",
      "source": [
        "df7 = df7.drop_duplicates(subset=['STATE/UT'])"
      ],
      "metadata": {
        "id": "9cwfEM0NEPTK"
      },
      "execution_count": 70,
      "outputs": []
    },
    {
      "cell_type": "markdown",
      "source": [
        "Applying K-Means Clustering to all the datasets and scatter plotting"
      ],
      "metadata": {
        "id": "TVU1-Jc_v47I"
      }
    },
    {
      "cell_type": "code",
      "source": [
        "X = df1\n",
        "from sklearn.cluster import KMeans\n",
        "\n",
        "\n",
        "kmeans = KMeans(n_clusters=2,random_state=0)\n",
        "\n",
        "kmeans.fit(X)\n",
        "labels = kmeans.labels_\n",
        "\n",
        "clusters = kmeans.cluster_centers_\n",
        "\n",
        "y_km = kmeans.fit_predict(df1)\n",
        "\n",
        "df11 = df1\n",
        "df11 = np.array(df11)\n",
        "plt.scatter(df11[y_km == 0,0],df11[y_km == 0,1], s = 50, color = 'red')\n",
        "plt.scatter(df11[y_km == 1,0],df11[y_km == 1,1], s = 50, color = 'blue')\n",
        "plt.scatter(clusters[0][0], clusters[0][1],marker = '*',s=200, color ='black')\n",
        "plt.scatter(clusters[1][0], clusters[1][1],marker = '*',s=200, color ='black')\n",
        "plt.title(\"Murders\")\n",
        "plt.xlabel(\"State labels\")\n",
        "plt.ylabel(\"Number of Murders\")"
      ],
      "metadata": {
        "id": "7_FEvTGtCUTn",
        "colab": {
          "base_uri": "https://localhost:8080/",
          "height": 489
        },
        "outputId": "8ac36a17-bf2c-4c30-b86a-0ccece87fce8"
      },
      "execution_count": 87,
      "outputs": [
        {
          "output_type": "execute_result",
          "data": {
            "text/plain": [
              "Text(0, 0.5, 'Number of Murders')"
            ]
          },
          "metadata": {},
          "execution_count": 87
        },
        {
          "output_type": "display_data",
          "data": {
            "text/plain": [
              "<Figure size 640x480 with 1 Axes>"
            ],
            "image/png": "[encoded data removed]"
          },
          "metadata": {}
        }
      ]
    },
    {
      "cell_type": "markdown",
      "source": [
        "Blue points:High murder rate states\n",
        "Red points:Low murder rate states"
      ],
      "metadata": {
        "id": "fE1RtS2rwJfk"
      }
    },
    {
      "cell_type": "code",
      "source": [
        "clusters"
      ],
      "metadata": {
        "colab": {
          "base_uri": "https://localhost:8080/"
        },
        "id": "7H1M25-VrE4r",
        "outputId": "297fa9cd-3de6-47b8-d907-75e080d901d4"
      },
      "execution_count": 74,
      "outputs": [
        {
          "output_type": "execute_result",
          "data": {
            "text/plain": [
              "array([[1.73000000e+01, 1.47025333e+04],\n",
              "       [1.52000000e+01, 8.60824000e+04]])"
            ]
          },
          "metadata": {},
          "execution_count": 74
        }
      ]
    },
    {
      "cell_type": "code",
      "source": [
        "X = df2\n",
        "from sklearn.cluster import KMeans\n",
        "\n",
        "\n",
        "kmeans = KMeans(n_clusters=2,random_state=0)\n",
        "\n",
        "kmeans.fit(X)\n",
        "labels = kmeans.labels_\n",
        "\n",
        "clusters = kmeans.cluster_centers_\n",
        "\n",
        "y_km = kmeans.fit_predict(df2)\n",
        "\n",
        "df11 = df2\n",
        "df11 = np.array(df11)\n",
        "plt.scatter(df11[y_km == 0,0],df11[y_km == 0,1], s = 50, color = 'red')\n",
        "plt.scatter(df11[y_km == 1,0],df11[y_km == 1,1], s = 50, color = 'blue')\n",
        "plt.scatter(clusters[0][0], clusters[0][1],marker = '*',s=200, color ='black')\n",
        "plt.scatter(clusters[1][0], clusters[1][1],marker = '*',s=200, color ='black')\n",
        "plt.title(\"Rape\")\n",
        "plt.xlabel(\"State labels\")\n",
        "plt.ylabel(\"Number of Rapes\")"
      ],
      "metadata": {
        "colab": {
          "base_uri": "https://localhost:8080/",
          "height": 489
        },
        "id": "fKCRib9Eo-9m",
        "outputId": "fd8c16f7-b970-459f-f8b7-20199df63d2a"
      },
      "execution_count": 88,
      "outputs": [
        {
          "output_type": "execute_result",
          "data": {
            "text/plain": [
              "Text(0, 0.5, 'Number of Rapes')"
            ]
          },
          "metadata": {},
          "execution_count": 88
        },
        {
          "output_type": "display_data",
          "data": {
            "text/plain": [
              "<Figure size 640x480 with 1 Axes>"
            ],
            "image/png": "[encoded data removed]"
          },
          "metadata": {}
        }
      ]
    },
    {
      "cell_type": "markdown",
      "source": [
        "Red points:High rape rate states\n",
        "Blue points:Low rape rate states"
      ],
      "metadata": {
        "id": "70rXjXOiyV5-"
      }
    },
    {
      "cell_type": "code",
      "source": [
        "clusters"
      ],
      "metadata": {
        "colab": {
          "base_uri": "https://localhost:8080/"
        },
        "id": "2NWE29oHrLza",
        "outputId": "1269b35d-8d7e-46b7-b6e2-71a7137715ce"
      },
      "execution_count": 76,
      "outputs": [
        {
          "output_type": "execute_result",
          "data": {
            "text/plain": [
              "array([[1.72000e+01, 3.98190e+04],\n",
              "       [1.69200e+01, 5.89992e+03]])"
            ]
          },
          "metadata": {},
          "execution_count": 76
        }
      ]
    },
    {
      "cell_type": "code",
      "source": [
        "X = df3\n",
        "from sklearn.cluster import KMeans\n",
        "\n",
        "\n",
        "kmeans = KMeans(n_clusters=2,random_state=0)\n",
        "\n",
        "kmeans.fit(X)\n",
        "labels = kmeans.labels_\n",
        "\n",
        "clusters = kmeans.cluster_centers_\n",
        "\n",
        "y_km = kmeans.fit_predict(df3)\n",
        "\n",
        "df11 = df3\n",
        "df11 = np.array(df11)\n",
        "plt.scatter(df11[y_km == 0,0],df11[y_km == 0,1], s = 50, color = 'red')\n",
        "plt.scatter(df11[y_km == 1,0],df11[y_km == 1,1], s = 50, color = 'blue')\n",
        "plt.scatter(clusters[0][0], clusters[0][1],marker = '*',s=200, color ='black')\n",
        "plt.scatter(clusters[1][0], clusters[1][1],marker = '*',s=200, color ='black')\n",
        "plt.title(\"Kidnapping and Abduction\")\n",
        "plt.xlabel(\"State labels\")\n",
        "plt.ylabel(\"Number of Kidnapping and Abduction\")"
      ],
      "metadata": {
        "colab": {
          "base_uri": "https://localhost:8080/",
          "height": 489
        },
        "id": "57KdlK_1piFk",
        "outputId": "66626816-bbf8-4fa8-9937-cbcaeb8dd226"
      },
      "execution_count": 89,
      "outputs": [
        {
          "output_type": "execute_result",
          "data": {
            "text/plain": [
              "Text(0, 0.5, 'Number of Kidnapping and Abduction')"
            ]
          },
          "metadata": {},
          "execution_count": 89
        },
        {
          "output_type": "display_data",
          "data": {
            "text/plain": [
              "<Figure size 640x480 with 1 Axes>"
            ],
            "image/png": "[encoded data removed]"
          },
          "metadata": {}
        }
      ]
    },
    {
      "cell_type": "markdown",
      "source": [
        "Blue points:Low kidnapping rate states\n",
        "Red points:High kidnapping rate states"
      ],
      "metadata": {
        "id": "WQvQvwToyhuT"
      }
    },
    {
      "cell_type": "code",
      "source": [
        "clusters"
      ],
      "metadata": {
        "colab": {
          "base_uri": "https://localhost:8080/"
        },
        "id": "YkW3h4yorO5D",
        "outputId": "715eaa95-c0d3-4116-a90e-0e33a768e66a"
      },
      "execution_count": 78,
      "outputs": [
        {
          "output_type": "execute_result",
          "data": {
            "text/plain": [
              "array([[1.58571429e+01, 1.01285714e+02, 7.62854286e+04],\n",
              "       [1.72857143e+01, 1.94642857e+01, 1.10942143e+04]])"
            ]
          },
          "metadata": {},
          "execution_count": 78
        }
      ]
    },
    {
      "cell_type": "code",
      "source": [
        "X = df4\n",
        "from sklearn.cluster import KMeans\n",
        "\n",
        "\n",
        "kmeans = KMeans(n_clusters=2,random_state=0)\n",
        "\n",
        "kmeans.fit(X)\n",
        "labels = kmeans.labels_\n",
        "\n",
        "clusters = kmeans.cluster_centers_\n",
        "\n",
        "y_km = kmeans.fit_predict(df4)\n",
        "\n",
        "df11 = df4\n",
        "df11 = np.array(df11)\n",
        "plt.scatter(df11[y_km == 0,0],df11[y_km == 0,1], s = 50, color = 'red')\n",
        "plt.scatter(df11[y_km == 1,0],df11[y_km == 1,1], s = 50, color = 'blue')\n",
        "plt.scatter(clusters[0][0], clusters[0][1],marker = '*',s=200, color ='black')\n",
        "plt.scatter(clusters[1][0], clusters[1][1],marker = '*',s=200, color ='black')\n",
        "plt.title(\"Dacoity\")\n",
        "plt.xlabel(\"State labels\")\n",
        "plt.ylabel(\"Number of Dacoity\")"
      ],
      "metadata": {
        "colab": {
          "base_uri": "https://localhost:8080/",
          "height": 489
        },
        "id": "CowqcBQ_ppAs",
        "outputId": "7cbca15a-7e26-4cff-817e-01fe72180f0a"
      },
      "execution_count": 90,
      "outputs": [
        {
          "output_type": "execute_result",
          "data": {
            "text/plain": [
              "Text(0, 0.5, 'Number of Dacoity')"
            ]
          },
          "metadata": {},
          "execution_count": 90
        },
        {
          "output_type": "display_data",
          "data": {
            "text/plain": [
              "<Figure size 640x480 with 1 Axes>"
            ],
            "image/png": "[encoded data removed]"
          },
          "metadata": {}
        }
      ]
    },
    {
      "cell_type": "markdown",
      "source": [
        "Blue points:High dacoity rate states\n",
        "Red points:Low dacoity rate states"
      ],
      "metadata": {
        "id": "a36xgM1TzbMq"
      }
    },
    {
      "cell_type": "code",
      "source": [
        "clusters"
      ],
      "metadata": {
        "colab": {
          "base_uri": "https://localhost:8080/"
        },
        "id": "Yoc1cgNMrTgN",
        "outputId": "9bb2009d-2cf2-47ae-e817-fd0affc2cc7c"
      },
      "execution_count": 80,
      "outputs": [
        {
          "output_type": "execute_result",
          "data": {
            "text/plain": [
              "array([[   17.32142857,  1382.57142857],\n",
              "       [   15.71428571, 12740.57142857]])"
            ]
          },
          "metadata": {},
          "execution_count": 80
        }
      ]
    },
    {
      "cell_type": "code",
      "source": [
        "X = df5\n",
        "from sklearn.cluster import KMeans\n",
        "\n",
        "\n",
        "kmeans = KMeans(n_clusters=2,random_state=0)\n",
        "\n",
        "kmeans.fit(X)\n",
        "labels = kmeans.labels_\n",
        "\n",
        "clusters = kmeans.cluster_centers_\n",
        "\n",
        "y_km = kmeans.fit_predict(df5)\n",
        "\n",
        "df11 = df5\n",
        "df11 = np.array(df11)\n",
        "plt.scatter(df11[y_km == 0,0],df11[y_km == 0,1], s = 50, color = 'red')\n",
        "plt.scatter(df11[y_km == 1,0],df11[y_km == 1,1], s = 50, color = 'blue')\n",
        "plt.scatter(clusters[0][0], clusters[0][1],marker = '*',s=200, color ='black')\n",
        "plt.scatter(clusters[1][0], clusters[1][1],marker = '*',s=200, color ='black')\n",
        "plt.title(\"Robbery\")\n",
        "plt.xlabel(\"State labels\")\n",
        "plt.ylabel(\"Number of Robbery\")"
      ],
      "metadata": {
        "colab": {
          "base_uri": "https://localhost:8080/",
          "height": 489
        },
        "id": "WKgBKxpIptXd",
        "outputId": "e5558842-cd50-4721-c625-56d69eb334d3"
      },
      "execution_count": 91,
      "outputs": [
        {
          "output_type": "execute_result",
          "data": {
            "text/plain": [
              "Text(0, 0.5, 'Number of Robbery')"
            ]
          },
          "metadata": {},
          "execution_count": 91
        },
        {
          "output_type": "display_data",
          "data": {
            "text/plain": [
              "<Figure size 640x480 with 1 Axes>"
            ],
            "image/png": "[encoded data removed]"
          },
          "metadata": {}
        }
      ]
    },
    {
      "cell_type": "markdown",
      "source": [
        "Blue points:Low robbery rate states\n",
        "Red points:High robbery rate states"
      ],
      "metadata": {
        "id": "MKOt69yTzhGs"
      }
    },
    {
      "cell_type": "code",
      "source": [
        "clusters"
      ],
      "metadata": {
        "colab": {
          "base_uri": "https://localhost:8080/"
        },
        "id": "1g9oJOUwrVwm",
        "outputId": "fe723608-8d0f-49ed-cd98-1c787072b012"
      },
      "execution_count": 82,
      "outputs": [
        {
          "output_type": "execute_result",
          "data": {
            "text/plain": [
              "array([[1.81428571e+01, 5.22251429e+04],\n",
              "       [1.67142857e+01, 6.95757143e+03]])"
            ]
          },
          "metadata": {},
          "execution_count": 82
        }
      ]
    },
    {
      "cell_type": "code",
      "source": [
        "X = df6\n",
        "from sklearn.cluster import KMeans\n",
        "\n",
        "\n",
        "kmeans = KMeans(n_clusters=2,random_state=0)\n",
        "\n",
        "kmeans.fit(X)\n",
        "labels = kmeans.labels_\n",
        "\n",
        "clusters = kmeans.cluster_centers_\n",
        "\n",
        "y_km = kmeans.fit_predict(df6)\n",
        "\n",
        "df11 = df6\n",
        "df11 = np.array(df11)\n",
        "plt.scatter(df11[y_km == 0,0],df11[y_km == 0,1], s = 50, color = 'red')\n",
        "plt.scatter(df11[y_km == 1,0],df11[y_km == 1,1], s = 50, color = 'blue')\n",
        "plt.scatter(clusters[0][0], clusters[0][1],marker = '*',s=200, color ='black')\n",
        "plt.scatter(clusters[1][0], clusters[1][1],marker = '*',s=200, color ='black')\n",
        "plt.title(\"Riots\")\n",
        "plt.xlabel(\"State labels\")\n",
        "plt.ylabel(\"Number of Riots\")"
      ],
      "metadata": {
        "colab": {
          "base_uri": "https://localhost:8080/",
          "height": 489
        },
        "id": "pdiacDx6pxlv",
        "outputId": "223a4227-2631-4897-ea46-c8b347088eb2"
      },
      "execution_count": 92,
      "outputs": [
        {
          "output_type": "execute_result",
          "data": {
            "text/plain": [
              "Text(0, 0.5, 'Number of Riots')"
            ]
          },
          "metadata": {},
          "execution_count": 92
        },
        {
          "output_type": "display_data",
          "data": {
            "text/plain": [
              "<Figure size 640x480 with 1 Axes>"
            ],
            "image/png": "[encoded data removed]"
          },
          "metadata": {}
        }
      ]
    },
    {
      "cell_type": "markdown",
      "source": [
        "Blue points:High riot rate states\n",
        "Red points:Low riot rate states"
      ],
      "metadata": {
        "id": "ZdZH0NskzpIo"
      }
    },
    {
      "cell_type": "code",
      "source": [
        "clusters"
      ],
      "metadata": {
        "colab": {
          "base_uri": "https://localhost:8080/"
        },
        "id": "dQPsgNFdrYHZ",
        "outputId": "07a0e325-76c8-4683-c4a9-22e0f56d6f37"
      },
      "execution_count": 84,
      "outputs": [
        {
          "output_type": "execute_result",
          "data": {
            "text/plain": [
              "array([[1.62758621e+01, 2.21174483e+04],\n",
              "       [2.05000000e+01, 1.75450000e+05]])"
            ]
          },
          "metadata": {},
          "execution_count": 84
        }
      ]
    },
    {
      "cell_type": "code",
      "source": [
        "X = df7\n",
        "from sklearn.cluster import KMeans\n",
        "\n",
        "\n",
        "kmeans = KMeans(n_clusters=2,random_state=0)\n",
        "\n",
        "kmeans.fit(X)\n",
        "labels = kmeans.labels_\n",
        "\n",
        "clusters = kmeans.cluster_centers_\n",
        "\n",
        "y_km = kmeans.fit_predict(df7)\n",
        "\n",
        "df11 = df7\n",
        "df11 = np.array(df11)\n",
        "plt.scatter(df11[y_km == 0,0],df11[y_km == 0,1], s = 50, color = 'red')\n",
        "plt.scatter(df11[y_km == 1,0],df11[y_km == 1,1], s = 50, color = 'blue')\n",
        "plt.scatter(clusters[0][0], clusters[0][1],marker = '*',s=200, color ='black')\n",
        "plt.scatter(clusters[1][0], clusters[1][1],marker = '*',s=200, color ='black')\n",
        "plt.title(\"Dowry Deaths\")\n",
        "plt.xlabel(\"State labels\")\n",
        "plt.ylabel(\"Number of Dowry Deaths\")"
      ],
      "metadata": {
        "colab": {
          "base_uri": "https://localhost:8080/",
          "height": 489
        },
        "id": "MwACbOCCp1vQ",
        "outputId": "a409f34c-48a2-4772-cff4-699565521717"
      },
      "execution_count": 93,
      "outputs": [
        {
          "output_type": "execute_result",
          "data": {
            "text/plain": [
              "Text(0, 0.5, 'Number of Dowry Deaths')"
            ]
          },
          "metadata": {},
          "execution_count": 93
        },
        {
          "output_type": "display_data",
          "data": {
            "text/plain": [
              "<Figure size 640x480 with 1 Axes>"
            ],
            "image/png": "[encoded data removed]"
          },
          "metadata": {}
        }
      ]
    },
    {
      "cell_type": "markdown",
      "source": [
        "Blue points:High dowry death rate states\n",
        "Red points:Low dowry death rate states"
      ],
      "metadata": {
        "id": "dMJpQ5PRzvbL"
      }
    },
    {
      "cell_type": "code",
      "source": [
        "clusters"
      ],
      "metadata": {
        "colab": {
          "base_uri": "https://localhost:8080/"
        },
        "id": "1A6acXo9razJ",
        "outputId": "eeaee458-01ab-45d5-d9db-5254b7f144f2"
      },
      "execution_count": 86,
      "outputs": [
        {
          "output_type": "execute_result",
          "data": {
            "text/plain": [
              "array([[1.69393939e+01, 3.53915152e+03],\n",
              "       [1.80000000e+01, 4.08890000e+04]])"
            ]
          },
          "metadata": {},
          "execution_count": 86
        }
      ]
    }
  ]
}